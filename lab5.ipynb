{
 "cells": [
  {
   "cell_type": "markdown",
   "id": "8be5fab0-a15b-40db-9a05-c1c77f2f0632",
   "metadata": {},
   "source": [
    "1"
   ]
  },
  {
   "cell_type": "code",
   "execution_count": 25,
   "id": "61289c4b-3068-40f3-b325-10ad5843bb6d",
   "metadata": {},
   "outputs": [
    {
     "name": "stdin",
     "output_type": "stream",
     "text": [
      " frefbefewff\n"
     ]
    },
    {
     "name": "stdout",
     "output_type": "stream",
     "text": [
      "Does not match\n"
     ]
    }
   ],
   "source": [
    "import re\n",
    "S = input()\n",
    "x = re.search('a[b]*', S)\n",
    "if x:\n",
    "    print(\"Matches\")\n",
    "else:\n",
    "    print(\"Does not match\")"
   ]
  },
  {
   "cell_type": "markdown",
   "id": "e63b9e85-b44d-4ae0-8213-091772e66aff",
   "metadata": {},
   "source": [
    "2"
   ]
  },
  {
   "cell_type": "code",
   "execution_count": 51,
   "id": "ebc657d9-66ee-4dfc-bb6f-148abf465808",
   "metadata": {},
   "outputs": [
    {
     "name": "stdin",
     "output_type": "stream",
     "text": [
      " fref\n"
     ]
    },
    {
     "name": "stdout",
     "output_type": "stream",
     "text": [
      "Does not match\n"
     ]
    }
   ],
   "source": [
    "import re\n",
    "S = input()\n",
    "x = re.search('a[b]{2,3}', S)\n",
    "if x:\n",
    "    print(\"Matches\")\n",
    "else:\n",
    "    print(\"Does not match\")"
   ]
  },
  {
   "cell_type": "markdown",
   "id": "248735cb-f13f-494f-ad9a-8528e59db548",
   "metadata": {},
   "source": [
    "3"
   ]
  },
  {
   "cell_type": "code",
   "execution_count": 56,
   "id": "1a87f23a-7dd3-4c09-9fa9-b8a67d49a020",
   "metadata": {},
   "outputs": [
    {
     "name": "stdin",
     "output_type": "stream",
     "text": [
      " frefem_fre_fref_fmgmop_jtn\n"
     ]
    },
    {
     "name": "stdout",
     "output_type": "stream",
     "text": [
      "['m_f', 'e_f', 'f_f', 'p_j']\n"
     ]
    }
   ],
   "source": [
    "import re\n",
    "S = input()\n",
    "x = re.findall('[a-z]_[a-z]', S)\n",
    "print(x)"
   ]
  },
  {
   "cell_type": "markdown",
   "id": "0ea9f9b1-0bcc-45e8-8f00-e2d2141e8b72",
   "metadata": {},
   "source": [
    "4"
   ]
  },
  {
   "cell_type": "code",
   "execution_count": 59,
   "id": "6f85368c-17d3-40d4-9acc-ae7f3f922847",
   "metadata": {},
   "outputs": [
    {
     "name": "stdin",
     "output_type": "stream",
     "text": [
      " fremrefjeANJNfrwfwANKRfgtJIr\n"
     ]
    },
    {
     "name": "stdout",
     "output_type": "stream",
     "text": [
      "['Nf', 'Rf', 'Ir']\n"
     ]
    }
   ],
   "source": [
    "import re\n",
    "S = input()\n",
    "x = re.findall('[A-Z][a-z]', S)\n",
    "print(x)"
   ]
  },
  {
   "cell_type": "markdown",
   "id": "79c4ed1a-8492-450a-b4c7-927cafe8d8e3",
   "metadata": {},
   "source": [
    "5"
   ]
  },
  {
   "cell_type": "code",
   "execution_count": 72,
   "id": "ae514e51-939c-4a28-988b-01044068cd36",
   "metadata": {},
   "outputs": [
    {
     "name": "stdin",
     "output_type": "stream",
     "text": [
      " agtgearb\n"
     ]
    },
    {
     "name": "stdout",
     "output_type": "stream",
     "text": [
      "Matches\n"
     ]
    }
   ],
   "source": [
    "import re\n",
    "S = input()\n",
    "x = re.search('a.b$', S)\n",
    "if x:\n",
    "    print(\"Matches\")\n",
    "else:\n",
    "    print(\"Doesn't match\")"
   ]
  },
  {
   "cell_type": "markdown",
   "id": "701216ae-2746-4ca3-aba8-9a47eaab3ad3",
   "metadata": {},
   "source": [
    "6"
   ]
  },
  {
   "cell_type": "code",
   "execution_count": 80,
   "id": "0033d8d7-89be-47cc-9061-603cbd364547",
   "metadata": {},
   "outputs": [
    {
     "name": "stderr",
     "output_type": "stream",
     "text": [
      "<>:3: SyntaxWarning: invalid escape sequence '\\ '\n",
      "<>:3: SyntaxWarning: invalid escape sequence '\\ '\n",
      "C:\\Users\\HP\\AppData\\Local\\Temp\\ipykernel_11628\\3818386309.py:3: SyntaxWarning: invalid escape sequence '\\ '\n",
      "  x = re.sub('\\ |\\.|\\,', ':', S)\n"
     ]
    },
    {
     "name": "stdin",
     "output_type": "stream",
     "text": [
      " erfre ,fe fpr. \n"
     ]
    },
    {
     "name": "stdout",
     "output_type": "stream",
     "text": [
      "erfre::fe:fpr::\n"
     ]
    }
   ],
   "source": [
    "import re\n",
    "S = input()\n",
    "x = re.sub('\\s|\\.|\\,', ':', S)\n",
    "print(x)"
   ]
  },
  {
   "cell_type": "markdown",
   "id": "cf3acf2b-0cdf-417a-856d-465804dce97b",
   "metadata": {},
   "source": [
    "7"
   ]
  },
  {
   "cell_type": "code",
   "execution_count": 99,
   "id": "2eef6a03-d281-4af3-9db0-5d7ea90e301a",
   "metadata": {},
   "outputs": [
    {
     "name": "stdin",
     "output_type": "stream",
     "text": [
      " freofnenr_fjef_hr_vfe\n"
     ]
    },
    {
     "name": "stdout",
     "output_type": "stream",
     "text": [
      "FreofnenrFjefHrVfe\n"
     ]
    }
   ],
   "source": [
    "import re\n",
    "S = input()\n",
    "x = re.split('_', S)\n",
    "for i in range(len(x)):\n",
    "    x[i] = x[i].capitalize()\n",
    "print(''.join(x[0:]))"
   ]
  },
  {
   "cell_type": "markdown",
   "id": "094cdef2-0db3-4ef7-ad55-8d05c0756c4e",
   "metadata": {},
   "source": [
    "8"
   ]
  },
  {
   "cell_type": "code",
   "execution_count": 137,
   "id": "c00c55ce-9f00-46fb-a100-d3d31be58ee5",
   "metadata": {},
   "outputs": [
    {
     "name": "stdin",
     "output_type": "stream",
     "text": [
      " JfjreunCfurejPOjefrfj\n"
     ]
    },
    {
     "name": "stdout",
     "output_type": "stream",
     "text": [
      " fjreun furej  jefrfj\n"
     ]
    }
   ],
   "source": [
    "import re\n",
    "S = input()\n",
    "x = re.split('[A-Z]', S)\n",
    "print(' '.join(x))"
   ]
  },
  {
   "cell_type": "markdown",
   "id": "23cc85e7-9d9a-473d-855b-4bffc1d472e2",
   "metadata": {},
   "source": [
    "9"
   ]
  },
  {
   "cell_type": "code",
   "execution_count": 139,
   "id": "dd80b92e-039d-4790-a8b6-a7a71b9fe1a7",
   "metadata": {},
   "outputs": [
    {
     "name": "stdin",
     "output_type": "stream",
     "text": [
      " BnfruCfri\n"
     ]
    },
    {
     "name": "stdout",
     "output_type": "stream",
     "text": [
      "Bnfru Cfri\n"
     ]
    }
   ],
   "source": [
    "import re\n",
    "S = input()\n",
    "x = re.split('([A-Z])', S)\n",
    "x = [i for i in x if i != '']\n",
    "x = [x[i]+x[i+1] for i in range(0, len(x)-1, 2)]\n",
    "print(' '.join(x))"
   ]
  },
  {
   "cell_type": "markdown",
   "id": "2459997d-c61e-4b2f-8046-f6ce1cb49c42",
   "metadata": {},
   "source": [
    "10"
   ]
  },
  {
   "cell_type": "code",
   "execution_count": 156,
   "id": "81852e38-1eac-44ec-8a7c-a50cf1d01893",
   "metadata": {},
   "outputs": [
    {
     "name": "stdin",
     "output_type": "stream",
     "text": [
      " HbcuifhrejfPOouferferjo\n"
     ]
    },
    {
     "name": "stdout",
     "output_type": "stream",
     "text": [
      "hbcuifhrejf_po\n"
     ]
    }
   ],
   "source": [
    "import re\n",
    "S = input()\n",
    "x = re.split('([A-Z])', S)\n",
    "x = [i for i in x if i != '']\n",
    "x = [x[i]+x[i+1] for i in range(0, len(x)-1, 2)]\n",
    "x = [i.lower() for i in x]\n",
    "print('_'.join(x))"
   ]
  },
  {
   "cell_type": "code",
   "execution_count": null,
   "id": "a5db2509-c415-4124-8b99-a8cb46bcacd1",
   "metadata": {},
   "outputs": [],
   "source": []
  }
 ],
 "metadata": {
  "kernelspec": {
   "display_name": "Python [conda env:base] *",
   "language": "python",
   "name": "conda-base-py"
  },
  "language_info": {
   "codemirror_mode": {
    "name": "ipython",
    "version": 3
   },
   "file_extension": ".py",
   "mimetype": "text/x-python",
   "name": "python",
   "nbconvert_exporter": "python",
   "pygments_lexer": "ipython3",
   "version": "3.12.7"
  }
 },
 "nbformat": 4,
 "nbformat_minor": 5
}
